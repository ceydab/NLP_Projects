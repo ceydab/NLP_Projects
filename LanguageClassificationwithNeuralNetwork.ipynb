{
  "cells": [
    {
      "cell_type": "markdown",
      "metadata": {
        "id": "view-in-github",
        "colab_type": "text"
      },
      "source": [
        "<a href=\"https://colab.research.google.com/github/ceydab/NLP_Projects/blob/main/LanguageClassificationwithNeuralNetwork.ipynb\" target=\"_parent\"><img src=\"https://colab.research.google.com/assets/colab-badge.svg\" alt=\"Open In Colab\"/></a>"
      ]
    },
    {
      "cell_type": "markdown",
      "source": [
        "# Machine Learning for Natural Language Processing: Language Classification with Neural Networks\n",
        "This notebook shows an example on how to use neural networks for language classification.\n",
        "\n",
        "It starts with importing the dataset and splitting it correctly. Next, preprocessing, tokenization, vectorization, and training functions are introduced. Then the dataset is processed through these functions to get predictions for the test set. Then the classification report on the training set is observed and the parameters are adjusted to have an accuracy over 90%. When the goal is achieved, the prediction is made and the confusion matrix for the test set is printed.\n"
      ],
      "metadata": {
        "id": "Q-2GcUhgB0S7"
      }
    },
    {
      "cell_type": "code",
      "execution_count": 1,
      "metadata": {
        "id": "utYcb97jq40t"
      },
      "outputs": [],
      "source": [
        "import subprocess\n",
        "\n",
        "# Installation on Google Colab\n",
        "try:\n",
        "    import google.colab\n",
        "    subprocess.run(['python', '-m', 'pip', 'install', 'skorch'])\n",
        "except ImportError:\n",
        "    pass"
      ]
    },
    {
      "cell_type": "code",
      "execution_count": 2,
      "metadata": {
        "id": "WZ3Y_KHvq40x"
      },
      "outputs": [],
      "source": [
        "import torch\n",
        "from torch import nn\n",
        "import torch.nn.functional as F\n",
        "from skorch import NeuralNetClassifier\n",
        "from sklearn.preprocessing import LabelEncoder\n",
        "from sklearn.model_selection import train_test_split\n",
        "from sklearn.feature_extraction.text import CountVectorizer\n",
        "from sklearn.metrics import confusion_matrix, ConfusionMatrixDisplay, classification_report\n",
        "import matplotlib.pyplot as plt\n",
        "import pandas as pd\n",
        "import numpy as np\n",
        "import csv\n",
        "import re\n",
        "import string\n",
        "from collections import defaultdict\n",
        "from nltk.stem import PorterStemmer\n",
        "from nltk.tokenize import word_tokenize\n",
        "import nltk\n",
        "nltk.download('punkt')"
      ]
    },
    {
      "cell_type": "code",
      "execution_count": 3,
      "metadata": {
        "id": "D9d6X0ZZq40z"
      },
      "outputs": [],
      "source": [
        "torch.manual_seed(0)\n",
        "torch.cuda.manual_seed(0)"
      ]
    },
    {
      "cell_type": "markdown",
      "metadata": {
        "id": "dAnY8yaDq400"
      },
      "source": [
        "## Training a classifier and making predictions"
      ]
    },
    {
      "cell_type": "code",
      "source": [
        "# download dataset\n",
        "!gdown 1QP6YuwdKFNUPpvhOaAcvv2Pcp4JMbIRs # x_train\n",
        "!gdown 1QVo7PZAdiZKzifK8kwhEr_umosiDCUx6 # x_test\n",
        "!gdown 1QbBeKcmG2ZyAEFB3AKGTgSWQ1YEMn2jl # y_train\n",
        "!gdown 1QaZj6bI7_78ymnN8IpSk4gVvg-C9fA6X # y_test"
      ],
      "metadata": {
        "id": "zWjt9xGoswAC",
        "outputId": "027056df-3f87-45b4-dbe7-da0af809a5b0",
        "colab": {
          "base_uri": "https://localhost:8080/"
        }
      },
      "execution_count": 6,
      "outputs": [
        {
          "output_type": "stream",
          "name": "stdout",
          "text": [
            "Downloading...\n",
            "From: https://drive.google.com/uc?id=1QP6YuwdKFNUPpvhOaAcvv2Pcp4JMbIRs\n",
            "To: /content/x_train.txt\n",
            "100% 64.1M/64.1M [00:00<00:00, 75.0MB/s]\n",
            "Downloading...\n",
            "From: https://drive.google.com/uc?id=1QVo7PZAdiZKzifK8kwhEr_umosiDCUx6\n",
            "To: /content/x_test.txt\n",
            "100% 65.2M/65.2M [00:00<00:00, 107MB/s]\n",
            "Downloading...\n",
            "From: https://drive.google.com/uc?id=1QbBeKcmG2ZyAEFB3AKGTgSWQ1YEMn2jl\n",
            "To: /content/y_train.txt\n",
            "100% 480k/480k [00:00<00:00, 11.9MB/s]\n",
            "Downloading...\n",
            "From: https://drive.google.com/uc?id=1QaZj6bI7_78ymnN8IpSk4gVvg-C9fA6X\n",
            "To: /content/y_test.txt\n",
            "100% 480k/480k [00:00<00:00, 11.5MB/s]\n"
          ]
        }
      ]
    },
    {
      "cell_type": "code",
      "source": [
        "with open(f'x_train.txt') as f:\n",
        "    x_train = f.read().splitlines()\n",
        "with open(f'y_train.txt') as f:\n",
        "    y_train = f.read().splitlines()\n",
        "with open(f'x_test.txt') as f:\n",
        "    x_test = f.read().splitlines()\n",
        "with open(f'y_test.txt') as f:\n",
        "    y_test = f.read().splitlines()"
      ],
      "metadata": {
        "id": "-M6DgXdjtJyH"
      },
      "execution_count": 7,
      "outputs": []
    },
    {
      "cell_type": "code",
      "source": [
        "# combine x_train and y_train into one dataframe\n",
        "train_df = pd.DataFrame({'text': x_train, 'label': y_train})\n",
        "\n",
        "#combine x_test and y_test into one dataframe\n",
        "test_df = pd.DataFrame({'text': x_test, 'label': y_test})"
      ],
      "metadata": {
        "id": "oRqfDA9FuoX1"
      },
      "execution_count": 8,
      "outputs": []
    },
    {
      "cell_type": "markdown",
      "source": [
        "The data is obtained. Now we need to filter it for the desired languages, and split it correctly. Then, we will use labelencoder to convert labels to computationally readable inputs, and make sure that they are integers."
      ],
      "metadata": {
        "id": "2WCGhWLPqYKd"
      }
    },
    {
      "cell_type": "code",
      "source": [
        "languages = ['afr', 'ara', 'aze', 'cat', 'ces', 'fin', 'fra', 'ell', 'hin', 'hun', 'isl', 'ita', 'jpn', 'kor', 'lit', 'msa', 'fas', 'pol', 'por', 'ron', 'eng', 'deu', 'nld', 'dan', 'swe', 'nob']\n",
        "train_df = train_df[train_df['label'].isin(languages)]\n",
        "test_df = test_df[test_df['label'].isin(languages)]\n",
        "\n",
        "all_set = pd.concat((train_df,test_df), axis = 0)\n",
        "X_train, X_test, y_train, y_test = train_test_split(all_set['text'], all_set['label'], train_size = 0.8, shuffle = True, stratify= all_set['label'])\n",
        "\n",
        "train_df = pd.concat((X_train, y_train), axis=1)\n",
        "test_df = pd.concat((X_test,y_test), axis =1)\n",
        "\n",
        "print(train_df['label'].value_counts())\n",
        "print(test_df['label'].value_counts())"
      ],
      "metadata": {
        "id": "r2cICoZ8xNMM",
        "colab": {
          "base_uri": "https://localhost:8080/"
        },
        "outputId": "1611bb3a-cb63-4594-f4c8-eff52c235bd4"
      },
      "execution_count": 9,
      "outputs": [
        {
          "output_type": "stream",
          "name": "stdout",
          "text": [
            "label\n",
            "aze    800\n",
            "msa    800\n",
            "ara    800\n",
            "ita    800\n",
            "isl    800\n",
            "kor    800\n",
            "swe    800\n",
            "lit    800\n",
            "por    800\n",
            "nob    800\n",
            "afr    800\n",
            "hun    800\n",
            "dan    800\n",
            "nld    800\n",
            "ces    800\n",
            "eng    800\n",
            "fra    800\n",
            "ron    800\n",
            "cat    800\n",
            "fas    800\n",
            "pol    800\n",
            "hin    800\n",
            "deu    800\n",
            "jpn    800\n",
            "ell    800\n",
            "fin    800\n",
            "Name: count, dtype: int64\n",
            "label\n",
            "nld    200\n",
            "deu    200\n",
            "fra    200\n",
            "kor    200\n",
            "pol    200\n",
            "fin    200\n",
            "lit    200\n",
            "afr    200\n",
            "ara    200\n",
            "msa    200\n",
            "ron    200\n",
            "hun    200\n",
            "isl    200\n",
            "swe    200\n",
            "por    200\n",
            "ell    200\n",
            "jpn    200\n",
            "hin    200\n",
            "fas    200\n",
            "cat    200\n",
            "dan    200\n",
            "aze    200\n",
            "ces    200\n",
            "nob    200\n",
            "eng    200\n",
            "ita    200\n",
            "Name: count, dtype: int64\n"
          ]
        }
      ]
    },
    {
      "cell_type": "code",
      "source": [
        "# T: use your adjusted code to encode the labels here\n",
        "le_fitted = LabelEncoder().fit(train_df['label'])\n",
        "y_train, y_test = le_fitted.transform(train_df['label']), le_fitted.transform(test_df['label'])"
      ],
      "metadata": {
        "id": "PXpIOpjRxzTl"
      },
      "execution_count": 10,
      "outputs": []
    },
    {
      "cell_type": "code",
      "source": [
        "y_train = y_train.astype(np.int64)\n",
        "y_test = y_test.astype(np.int64)"
      ],
      "metadata": {
        "id": "9EiRal_1Q0iJ"
      },
      "execution_count": 11,
      "outputs": []
    },
    {
      "cell_type": "markdown",
      "source": [
        "We are done with the process needed for labels. Now, we will introduce the functions for preprocessing, tokenization, vectorizing, and training."
      ],
      "metadata": {
        "id": "GhxOdEl_qtkz"
      }
    },
    {
      "cell_type": "code",
      "source": [
        "def preprocess(text):\n",
        "  text = text.lower()\n",
        "  text = re.sub(r'\\d+', '', text)\n",
        "  text = text.translate(str.maketrans(\"\",\"\", string.punctuation))\n",
        "  text = text.strip()\n",
        "  return text"
      ],
      "metadata": {
        "id": "212FI4CFFnrS"
      },
      "execution_count": 12,
      "outputs": []
    },
    {
      "cell_type": "code",
      "source": [
        "def tokenize(preprocessed_text):\n",
        "  stemmer= PorterStemmer()\n",
        "  stem_text = []\n",
        "  tokenized_text = word_tokenize(preprocessed_text)\n",
        "  for word in tokenized_text:\n",
        "    stemmed = stemmer.stem(word)\n",
        "    stem_text.append(stemmed)\n",
        "  return stem_text"
      ],
      "metadata": {
        "id": "vWF9wLUYqWjS"
      },
      "execution_count": 13,
      "outputs": []
    },
    {
      "cell_type": "code",
      "source": [
        "def vectorize(X_train, X_test):\n",
        "  X_train = X_train.apply(lambda x: ' '.join(x))\n",
        "  X_test = X_test.apply(lambda x: ' '.join(x))\n",
        "  count_vectorizer = CountVectorizer(analyzer='char', ngram_range=(2, 2), max_features=600, binary=True)\n",
        "  train_count = count_vectorizer.fit_transform(X_train.to_numpy()).astype(np.float32)\n",
        "  test_count = count_vectorizer.transform(X_test.to_numpy()).astype(np.float32)\n",
        "  return train_count, test_count"
      ],
      "metadata": {
        "id": "zaMdELsXqZsu"
      },
      "execution_count": 14,
      "outputs": []
    },
    {
      "cell_type": "markdown",
      "metadata": {
        "id": "oMFoiitJq407"
      },
      "source": [
        "Here, we define a neural network with two hidden layers, and input appropriate neuron numbers."
      ]
    },
    {
      "cell_type": "code",
      "source": [
        "class ClassifierModule(nn.Module):\n",
        "    def __init__(\n",
        "            self,\n",
        "            num_units=256,\n",
        "            nonlin=F.relu,\n",
        "            dropout = 0.5\n",
        "    ):\n",
        "        super(ClassifierModule, self).__init__()\n",
        "        self.num_units = num_units\n",
        "        self.nonlin = nonlin\n",
        "\n",
        "        self.dense0 = nn.Linear(600, num_units)\n",
        "        self.nonlin = nonlin\n",
        "        self.dropout = nn.Dropout(dropout)\n",
        "        self.dense1 = nn.Linear(num_units, 64)\n",
        "        self.output = nn.Linear(64, 26)\n",
        "\n",
        "    def forward(self, X, **kwargs):\n",
        "      X = self.nonlin(self.dense0(X))\n",
        "      X = self.dropout(X)\n",
        "      X = F.relu(self.dense1(X))\n",
        "      X = self.output(X)\n",
        "      return X.squeeze(dim=1)"
      ],
      "metadata": {
        "id": "7Q5EDIGQUUBy"
      },
      "execution_count": 15,
      "outputs": []
    },
    {
      "cell_type": "markdown",
      "source": [
        "Now, we are at done with the functions. We will first define a NeuralNetClassifier that takes in any necessary input. Then, we will put X_train and X_test through the necessary steps. Lastly, we will fit the model to the training data."
      ],
      "metadata": {
        "id": "BWJdATKmrP2J"
      }
    },
    {
      "cell_type": "code",
      "source": [
        "net = NeuralNetClassifier(\n",
        "    ClassifierModule,\n",
        "    max_epochs=20,\n",
        "    criterion=nn.CrossEntropyLoss(),\n",
        "    lr=0.1,\n",
        "    # device='cuda',  # comment this to train with CPU\n",
        ")"
      ],
      "metadata": {
        "id": "wKnJECeQGpyI"
      },
      "execution_count": 21,
      "outputs": []
    },
    {
      "cell_type": "code",
      "source": [
        "X_train = X_train.apply(preprocess)\n",
        "X_test = X_test.apply(preprocess)\n",
        "X_train = X_train.apply(tokenize)\n",
        "X_test = X_test.apply(tokenize)\n",
        "X_train, X_test = vectorize(X_train,X_test)"
      ],
      "metadata": {
        "id": "0X-X3tq6r6cP"
      },
      "execution_count": 16,
      "outputs": []
    },
    {
      "cell_type": "code",
      "source": [
        "net.fit(X_train, y_train)"
      ],
      "metadata": {
        "id": "QcNOd9yBSxys",
        "colab": {
          "base_uri": "https://localhost:8080/"
        },
        "outputId": "60fddc38-fb2e-44a9-f648-8e8d5cd1fff8"
      },
      "execution_count": 22,
      "outputs": [
        {
          "output_type": "stream",
          "name": "stdout",
          "text": [
            "  epoch    train_loss    valid_acc    valid_loss     dur\n",
            "-------  ------------  -----------  ------------  ------\n",
            "      1        \u001b[36m2.8443\u001b[0m       \u001b[32m0.6310\u001b[0m        \u001b[35m1.8625\u001b[0m  4.4626\n",
            "      2        \u001b[36m1.1671\u001b[0m       \u001b[32m0.8719\u001b[0m        \u001b[35m0.6128\u001b[0m  2.7570\n",
            "      3        \u001b[36m0.5196\u001b[0m       \u001b[32m0.9154\u001b[0m        \u001b[35m0.3230\u001b[0m  2.6901\n",
            "      4        \u001b[36m0.3193\u001b[0m       \u001b[32m0.9587\u001b[0m        \u001b[35m0.2309\u001b[0m  4.0729\n",
            "      5        \u001b[36m0.2350\u001b[0m       \u001b[32m0.9649\u001b[0m        \u001b[35m0.1889\u001b[0m  2.7691\n",
            "      6        \u001b[36m0.1850\u001b[0m       \u001b[32m0.9678\u001b[0m        \u001b[35m0.1610\u001b[0m  2.7325\n",
            "      7        \u001b[36m0.1599\u001b[0m       0.9675        \u001b[35m0.1450\u001b[0m  2.7104\n",
            "      8        \u001b[36m0.1354\u001b[0m       \u001b[32m0.9714\u001b[0m        \u001b[35m0.1368\u001b[0m  3.5537\n",
            "      9        \u001b[36m0.1176\u001b[0m       0.9707        \u001b[35m0.1297\u001b[0m  3.2430\n",
            "     10        \u001b[36m0.1079\u001b[0m       \u001b[32m0.9728\u001b[0m        \u001b[35m0.1263\u001b[0m  2.7254\n",
            "     11        \u001b[36m0.0996\u001b[0m       0.9714        \u001b[35m0.1224\u001b[0m  2.7355\n",
            "     12        \u001b[36m0.0914\u001b[0m       0.9716        \u001b[35m0.1195\u001b[0m  2.8321\n",
            "     13        \u001b[36m0.0827\u001b[0m       0.9728        \u001b[35m0.1166\u001b[0m  3.9710\n",
            "     14        \u001b[36m0.0807\u001b[0m       \u001b[32m0.9745\u001b[0m        \u001b[35m0.1133\u001b[0m  2.7310\n",
            "     15        \u001b[36m0.0752\u001b[0m       \u001b[32m0.9748\u001b[0m        0.1138  2.7234\n",
            "     16        \u001b[36m0.0678\u001b[0m       0.9740        \u001b[35m0.1130\u001b[0m  2.7494\n",
            "     17        \u001b[36m0.0668\u001b[0m       0.9738        \u001b[35m0.1130\u001b[0m  3.6964\n",
            "     18        \u001b[36m0.0623\u001b[0m       0.9745        \u001b[35m0.1110\u001b[0m  4.6668\n",
            "     19        \u001b[36m0.0571\u001b[0m       \u001b[32m0.9752\u001b[0m        0.1120  2.6994\n",
            "     20        \u001b[36m0.0553\u001b[0m       0.9752        \u001b[35m0.1110\u001b[0m  2.7158\n"
          ]
        }
      ]
    },
    {
      "cell_type": "markdown",
      "source": [
        "We have obtained an accuracy over 90% in the training loop. Now, we will send the test set into this and obtain predicted labels for the test set. Following, we will print the confusion matrix and the classification report."
      ],
      "metadata": {
        "id": "7UP1637hrmFv"
      }
    },
    {
      "cell_type": "code",
      "source": [
        "y_pred = net.predict(X_test)"
      ],
      "metadata": {
        "id": "LW4xsChemxNI"
      },
      "execution_count": 28,
      "outputs": []
    },
    {
      "cell_type": "code",
      "source": [
        "classes = le_fitted.inverse_transform(np.unique(y_train))\n",
        "nn_confusion = confusion_matrix(y_test, y_pred)\n",
        "plot_conf_matrix = ConfusionMatrixDisplay(nn_confusion, display_labels = classes)\n",
        "plot_conf_matrix.plot(xticks_rotation = \"vertical\")\n",
        "ax = plt.gca()\n",
        "\n",
        "for text in ax.texts:\n",
        "    text.set_fontsize(6)\n",
        "plt.show()\n"
      ],
      "metadata": {
        "colab": {
          "base_uri": "https://localhost:8080/",
          "height": 1000
        },
        "id": "Ujuff8NmlXCC",
        "outputId": "ffa52db6-ebdd-4dcc-9b5f-cd8d9a9a09a5"
      },
      "execution_count": 36,
      "outputs": [
        {
          "output_type": "display_data",
          "data": {
            "text/plain": [
              "<Figure size 640x480 with 2 Axes>"
            ],
            "image/png": "[encoded data removed]"
          },
          "metadata": {}
        },
        {
          "output_type": "stream",
          "name": "stdout",
          "text": [
            "              precision    recall  f1-score   support\n",
            "\n",
            "         afr       0.98      0.98      0.98       200\n",
            "         ara       1.00      0.99      1.00       200\n",
            "         aze       0.99      0.97      0.98       200\n",
            "         cat       0.99      0.95      0.97       200\n",
            "         ces       0.99      0.99      0.99       200\n",
            "         dan       0.94      0.93      0.93       200\n",
            "         deu       0.92      0.98      0.95       200\n",
            "         ell       1.00      0.97      0.99       200\n",
            "         eng       0.84      0.97      0.90       200\n",
            "         fas       1.00      1.00      1.00       200\n",
            "         fin       1.00      0.99      1.00       200\n",
            "         fra       0.97      0.97      0.97       200\n",
            "         hin       1.00      0.98      0.99       200\n",
            "         hun       1.00      0.99      0.99       200\n",
            "         isl       1.00      1.00      1.00       200\n",
            "         ita       0.98      0.97      0.97       200\n",
            "         jpn       0.95      0.99      0.97       200\n",
            "         kor       1.00      0.97      0.98       200\n",
            "         lit       0.99      0.98      0.99       200\n",
            "         msa       0.98      0.95      0.97       200\n",
            "         nld       0.99      0.98      0.98       200\n",
            "         nob       0.96      0.93      0.94       200\n",
            "         pol       0.98      0.98      0.98       200\n",
            "         por       0.99      0.98      0.98       200\n",
            "         ron       0.98      0.97      0.98       200\n",
            "         swe       1.00      0.99      1.00       200\n",
            "\n",
            "    accuracy                           0.98      5200\n",
            "   macro avg       0.98      0.98      0.98      5200\n",
            "weighted avg       0.98      0.98      0.98      5200\n",
            "\n"
          ]
        }
      ]
    },
    {
      "cell_type": "code",
      "source": [
        "print(classification_report(y_test,y_pred, target_names= classes))"
      ],
      "metadata": {
        "colab": {
          "base_uri": "https://localhost:8080/"
        },
        "id": "H7GDmcsIodTD",
        "outputId": "de9ff118-af41-48f2-bf00-373b02559e75"
      },
      "execution_count": 38,
      "outputs": [
        {
          "output_type": "stream",
          "name": "stdout",
          "text": [
            "              precision    recall  f1-score   support\n",
            "\n",
            "         afr       0.98      0.98      0.98       200\n",
            "         ara       1.00      0.99      1.00       200\n",
            "         aze       0.99      0.97      0.98       200\n",
            "         cat       0.99      0.95      0.97       200\n",
            "         ces       0.99      0.99      0.99       200\n",
            "         dan       0.94      0.93      0.93       200\n",
            "         deu       0.92      0.98      0.95       200\n",
            "         ell       1.00      0.97      0.99       200\n",
            "         eng       0.84      0.97      0.90       200\n",
            "         fas       1.00      1.00      1.00       200\n",
            "         fin       1.00      0.99      1.00       200\n",
            "         fra       0.97      0.97      0.97       200\n",
            "         hin       1.00      0.98      0.99       200\n",
            "         hun       1.00      0.99      0.99       200\n",
            "         isl       1.00      1.00      1.00       200\n",
            "         ita       0.98      0.97      0.97       200\n",
            "         jpn       0.95      0.99      0.97       200\n",
            "         kor       1.00      0.97      0.98       200\n",
            "         lit       0.99      0.98      0.99       200\n",
            "         msa       0.98      0.95      0.97       200\n",
            "         nld       0.99      0.98      0.98       200\n",
            "         nob       0.96      0.93      0.94       200\n",
            "         pol       0.98      0.98      0.98       200\n",
            "         por       0.99      0.98      0.98       200\n",
            "         ron       0.98      0.97      0.98       200\n",
            "         swe       1.00      0.99      1.00       200\n",
            "\n",
            "    accuracy                           0.98      5200\n",
            "   macro avg       0.98      0.98      0.98      5200\n",
            "weighted avg       0.98      0.98      0.98      5200\n",
            "\n"
          ]
        }
      ]
    },
    {
      "cell_type": "markdown",
      "source": [
        "We have obtained an average accuracy of 98%.\n",
        "\n",
        "Before we finish, it should be noted that what seemed to be the most effective factor in the training of the neural network was the number of input neurons, which was obtained through vectorization. While the other parameters, such as number of hidden neurons, epochs, dropout rate, learning rate, and activation function were also effective, they were not as profound as the input characters.\n",
        "\n",
        "It is also surprising that the model did not perform as well for english, as the model with linear classification. This might be due to the possibility of the inclusion of english words in the other language texts. As a consequence of input neurons, the model may be more successful in observing english characters."
      ],
      "metadata": {
        "id": "Z5pOzQSwsESH"
      }
    }
  ],
  "metadata": {
    "kernelspec": {
      "display_name": "Python 3",
      "name": "python3"
    },
    "language_info": {
      "codemirror_mode": {
        "name": "ipython",
        "version": 3
      },
      "file_extension": ".py",
      "mimetype": "text/x-python",
      "name": "python",
      "nbconvert_exporter": "python",
      "pygments_lexer": "ipython3",
      "version": "3.7.13 (default, Mar 28 2022, 08:03:21) [MSC v.1916 64 bit (AMD64)]"
    },
    "vscode": {
      "interpreter": {
        "hash": "bd97b8bffa4d3737e84826bc3d37be3046061822757ce35137ab82ad4c5a2016"
      }
    },
    "colab": {
      "provenance": [],
      "include_colab_link": true
    }
  },
  "nbformat": 4,
  "nbformat_minor": 0
}