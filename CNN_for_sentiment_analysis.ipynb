{
  "nbformat": 4,
  "nbformat_minor": 0,
  "metadata": {
    "colab": {
      "provenance": [],
      "include_colab_link": true
    },
    "kernelspec": {
      "name": "python3",
      "display_name": "Python 3"
    },
    "language_info": {
      "name": "python"
    }
  },
  "cells": [
    {
      "cell_type": "markdown",
      "metadata": {
        "id": "view-in-github",
        "colab_type": "text"
      },
      "source": [
        "<a href=\"https://colab.research.google.com/github/ceydab/NLP_Projects/blob/main/CNN_for_sentiment_analysis.ipynb\" target=\"_parent\"><img src=\"https://colab.research.google.com/assets/colab-badge.svg\" alt=\"Open In Colab\"/></a>"
      ]
    },
    {
      "cell_type": "markdown",
      "source": [
        "#Machine Learning for Natural Language Processing: Sentiment Analysis with CNN\n",
        "\n",
        "This notebook shows an example of how to use CNN to perform sentiment analysis.\n",
        "We will use a dataset based on tweets. There are 4 emotions listed in the dataset which allows us to do both binary and multi-class classification.\n",
        "We will perform two tasks here:\n",
        "1. Multiclass classfication task\n",
        "2. Binary classification task\n",
        "\n",
        "\n",
        "We will import the dataset,\n",
        "\n",
        "  create functions for tokenization, vectorization, dataloader,\n",
        "\n",
        "  create CNN class,\n",
        "\n",
        "  create training function,\n",
        "\n",
        "  and finally apply the algorithm on both multiclass and binary class sets."
      ],
      "metadata": {
        "id": "0uQ9Y8ywVVym"
      }
    },
    {
      "cell_type": "code",
      "execution_count": 1,
      "metadata": {
        "id": "KRvGw0JVFL6p",
        "colab": {
          "base_uri": "https://localhost:8080/"
        },
        "outputId": "1a6f2a8d-2adf-4f80-9a4e-63749b1987b7"
      },
      "outputs": [
        {
          "output_type": "stream",
          "name": "stdout",
          "text": [
            "fatal: destination path 'tweeteval' already exists and is not an empty directory.\n"
          ]
        }
      ],
      "source": [
        "!git clone https://github.com/cardiffnlp/tweeteval.git"
      ]
    },
    {
      "cell_type": "markdown",
      "source": [
        "we define the paths, import libraries, define the device, and move onto the functions."
      ],
      "metadata": {
        "id": "E2DlnIXWSvTn"
      }
    },
    {
      "cell_type": "code",
      "source": [
        "train_path, train_path_labels = \"/content/tweeteval/datasets/emotion/train_text.txt\", \"/content/tweeteval/datasets/emotion/train_labels.txt\"\n",
        "val_path, val_path_labels = \"/content/tweeteval/datasets/emotion/val_text.txt\", \"/content/tweeteval/datasets/emotion/val_labels.txt\"\n",
        "test_path, test_path_labels = \"/content/tweeteval/datasets/emotion/test_text.txt\", \"/content/tweeteval/datasets/emotion/test_labels.txt\"\n",
        "label_path = \"tweeteval/datasets/emotion/mapping.txt\""
      ],
      "metadata": {
        "id": "i28n_vDFDxyO"
      },
      "execution_count": 2,
      "outputs": []
    },
    {
      "cell_type": "code",
      "source": [
        "import os\n",
        "import re\n",
        "import matplotlib.pyplot as plt\n",
        "from torch.utils.data import DataLoader\n",
        "import torch\n",
        "import numpy as np\n",
        "import pandas as pd\n",
        "import torch.nn as nn\n",
        "import torch.nn.functional as F\n",
        "from torch.utils.data import TensorDataset, Dataset, DataLoader, RandomSampler, SequentialSampler\n",
        "import torch.utils.data as data\n",
        "from sklearn.metrics import classification_report\n",
        "import nltk\n",
        "nltk.download('punkt')\n",
        "nltk.download('wordnet')\n",
        "from nltk.stem import WordNetLemmatizer\n",
        "from nltk.tokenize import word_tokenize\n",
        "from nltk.corpus import stopwords\n",
        "nltk.download('stopwords')\n",
        "stop_words = set(stopwords.words('english'))\n",
        "import string\n",
        "from transformers import AutoTokenizer"
      ],
      "metadata": {
        "colab": {
          "base_uri": "https://localhost:8080/"
        },
        "id": "3L0r1sPvC3xO",
        "outputId": "03b9a2ef-1742-4930-eee9-af7bced06781"
      },
      "execution_count": 3,
      "outputs": [
        {
          "output_type": "stream",
          "name": "stderr",
          "text": [
            "[nltk_data] Downloading package punkt to /root/nltk_data...\n",
            "[nltk_data]   Package punkt is already up-to-date!\n",
            "[nltk_data] Downloading package wordnet to /root/nltk_data...\n",
            "[nltk_data]   Package wordnet is already up-to-date!\n",
            "[nltk_data] Downloading package stopwords to /root/nltk_data...\n",
            "[nltk_data]   Package stopwords is already up-to-date!\n"
          ]
        }
      ]
    },
    {
      "cell_type": "code",
      "source": [
        "if torch.cuda.is_available():\n",
        "    device = torch.device(\"cuda\")\n",
        "else:\n",
        "    device = torch.device(\"cpu\")"
      ],
      "metadata": {
        "id": "euvrPMIsC628"
      },
      "execution_count": 4,
      "outputs": []
    },
    {
      "cell_type": "markdown",
      "source": [
        "Below we create the function for dataframes. Then we observe the labels to decide how to proceed.\n",
        "\n",
        "For multiclass we will use all 4 labels."
      ],
      "metadata": {
        "id": "tz2qozlsT9hr"
      }
    },
    {
      "cell_type": "code",
      "source": [
        "def create_df(path_text, path_label, labels):\n",
        "  txt = pd.read_csv(path_text, delimiter='\\t', header=None, names=[\"text\"])\n",
        "  label = pd.read_csv(path_label, delimiter='\\t', header=None, names=[\"label\"])\n",
        "\n",
        "  concatenated = pd.concat([txt, label], axis=1, ignore_index=False)\n",
        "  df = concatenated[concatenated.label.isin(labels)].reset_index(drop=True)\n",
        "  return df"
      ],
      "metadata": {
        "id": "jimwS0cFDGmR"
      },
      "execution_count": 5,
      "outputs": []
    },
    {
      "cell_type": "code",
      "source": [
        "label_mapping = {}\n",
        "with open(label_path, 'r') as file:\n",
        "    for line in file:\n",
        "        label, emotion = line.strip().split('\\t')\n",
        "        label_mapping[label] = emotion\n",
        "\n",
        "label_mapping"
      ],
      "metadata": {
        "colab": {
          "base_uri": "https://localhost:8080/"
        },
        "id": "57W91UbgFExt",
        "outputId": "bfe3ddfc-1f1e-488c-cc4f-2c580b0c0a2b"
      },
      "execution_count": 6,
      "outputs": [
        {
          "output_type": "execute_result",
          "data": {
            "text/plain": [
              "{'0': 'anger', '1': 'joy', '2': 'optimism', '3': 'sadness'}"
            ]
          },
          "metadata": {},
          "execution_count": 6
        }
      ]
    },
    {
      "cell_type": "code",
      "source": [
        "labels = [0,1,2,3]\n",
        "train_df = create_df(train_path, train_path_labels, labels)\n",
        "val_df = create_df(val_path, val_path_labels, labels)\n",
        "test_df = create_df(test_path, test_path_labels, labels)\n",
        "counts = train_df['label'].value_counts()\n",
        "train_df = train_df.groupby('label').apply(lambda x: x.sample(counts.max(), replace=True)).reset_index(drop=True)\n",
        "\n",
        "print(train_df['label'].value_counts())\n",
        "print(val_df['label'].value_counts())\n",
        "print(test_df['label'].value_counts())\n",
        "print(train_df.head())"
      ],
      "metadata": {
        "colab": {
          "base_uri": "https://localhost:8080/"
        },
        "id": "envqi1CIyZlT",
        "outputId": "fa38a566-4b40-40f5-bcf3-bb7092f3a141"
      },
      "execution_count": 7,
      "outputs": [
        {
          "output_type": "stream",
          "name": "stdout",
          "text": [
            "label\n",
            "0    1400\n",
            "3     855\n",
            "1     708\n",
            "2     294\n",
            "Name: count, dtype: int64\n",
            "label\n",
            "0    160\n",
            "1     97\n",
            "3     89\n",
            "2     28\n",
            "Name: count, dtype: int64\n",
            "label\n",
            "0    558\n",
            "3    382\n",
            "1    358\n",
            "2    123\n",
            "Name: count, dtype: int64\n",
            "                                                text  label\n",
            "0  “Worry is a down payment on a problem you may ...      2\n",
            "1  My roommate: it's okay that we can't spell bec...      0\n",
            "2  No but that's so cute. Atsu was probably shy a...      1\n",
            "3  Rooneys fucking untouchable isn't he? Been fuc...      0\n",
            "4  it's pretty depressing when u hit pan on ur fa...      3\n"
          ]
        }
      ]
    },
    {
      "cell_type": "markdown",
      "source": [
        "After creating the dataframes, we upsample them to balance the imbalance in the dataset.\n",
        "\n",
        "Next, we have the preprocessing function which we apply to all three dataframes."
      ],
      "metadata": {
        "id": "xaW7rvcfUZ0O"
      }
    },
    {
      "cell_type": "code",
      "source": [
        "def preprocess(text):\n",
        "  text = text.lower()\n",
        "  text = re.sub(r'\\d+', '', text)\n",
        "  text = re.sub(r'[^\\x00-\\x7F]+', '', text)\n",
        "  text = text.translate(str.maketrans(\"\",\"\", string.punctuation))\n",
        "  text = text.strip()\n",
        "  return text"
      ],
      "metadata": {
        "id": "Y0cFVyWQFLJs"
      },
      "execution_count": 8,
      "outputs": []
    },
    {
      "cell_type": "code",
      "source": [
        "train_df['text'] = train_df['text'].apply(preprocess)\n",
        "val_df['text'] = val_df['text'].apply(preprocess)\n",
        "test_df['text'] = test_df['text'].apply(preprocess)"
      ],
      "metadata": {
        "colab": {
          "base_uri": "https://localhost:8080/"
        },
        "id": "bDGsWr-_zXwJ",
        "outputId": "6fe52bef-5055-4202-f664-1c6c2555a07c"
      },
      "execution_count": 9,
      "outputs": [
        {
          "output_type": "stream",
          "name": "stdout",
          "text": [
            "                                                   text  label\n",
            "0     why does terrorism exist in the first place as...      0\n",
            "1     a user not turning up why am i not surprised l...      0\n",
            "2                                     user bloody right      0\n",
            "3     user aye theres a brief window in both morning...      0\n",
            "4                   user ber off ncfc is a grudge match      0\n",
            "...                                                 ...    ...\n",
            "5595  light of day per heyday popularization backfir...      3\n",
            "5596            user u tried boiling em takes years too      3\n",
            "5597  is this the krusty krabnnno this is crippling ...      3\n",
            "5598  do you know how much it hurts to see you best ...      3\n",
            "5599  fellaini has been playing ahead of this guyjus...      3\n",
            "\n",
            "[5600 rows x 2 columns]\n",
            "label\n",
            "0    1400\n",
            "1    1400\n",
            "2    1400\n",
            "3    1400\n",
            "Name: count, dtype: int64\n"
          ]
        }
      ]
    },
    {
      "cell_type": "code",
      "source": [
        "tokenizer = AutoTokenizer.from_pretrained('distilroberta-base', use_fast=True, normalization=True)"
      ],
      "metadata": {
        "id": "X3iK3Z7I9LSY",
        "colab": {
          "base_uri": "https://localhost:8080/"
        },
        "outputId": "cac99ee8-10b0-4063-9841-397f224ea5fa"
      },
      "execution_count": 10,
      "outputs": [
        {
          "output_type": "stream",
          "name": "stderr",
          "text": [
            "/usr/local/lib/python3.10/dist-packages/huggingface_hub/utils/_token.py:88: UserWarning: \n",
            "The secret `HF_TOKEN` does not exist in your Colab secrets.\n",
            "To authenticate with the Hugging Face Hub, create a token in your settings tab (https://huggingface.co/settings/tokens), set it as secret in your Google Colab and restart your session.\n",
            "You will be able to reuse this secret in all of your notebooks.\n",
            "Please note that authentication is recommended but still optional to access public models or datasets.\n",
            "  warnings.warn(\n"
          ]
        }
      ]
    },
    {
      "cell_type": "markdown",
      "source": [
        "We define a pretrained tokenizer for the model. Below, we balance the text lengths, next, we define the tokenization function, dataloader function, and create dataloaders."
      ],
      "metadata": {
        "id": "KLOKN9ehVaL9"
      }
    },
    {
      "cell_type": "code",
      "source": [
        "def length_balancer(train_df):\n",
        "  MAX_LEN = 0\n",
        "  for tweet in train_df['text']:\n",
        "      input_ids = tokenizer.encode(tweet, add_special_tokens=True)\n",
        "      MAX_LEN = max(MAX_LEN, len(input_ids))\n",
        "  print('Max length Emotion Set: ', MAX_LEN)\n",
        "  return MAX_LEN, input_ids\n",
        "\n"
      ],
      "metadata": {
        "id": "UrrwL8uyMTSM"
      },
      "execution_count": 11,
      "outputs": []
    },
    {
      "cell_type": "code",
      "source": [
        "def tokenize_text(df, tokenizer, max_len):\n",
        "    input_ids = []\n",
        "    attention_masks = []\n",
        "    for tweet in df['text']:\n",
        "        encoded_dict = tokenizer.encode_plus(\n",
        "                            tweet,                      # Sentence to encode.\n",
        "                            add_special_tokens = True, # Add '[CLS]' and '[SEP]'\n",
        "                            max_length = max_len,           # Pad & truncate all sentences.\n",
        "                            padding = 'max_length',\n",
        "                            truncation = True,\n",
        "                            return_attention_mask = True,   # Construct attn. masks.\n",
        "                            return_tensors = 'pt',     # Return pytorch tensors.\n",
        "                       )\n",
        "\n",
        "        # Add the encoded sentence to the list.\n",
        "        input_ids.append(encoded_dict['input_ids'])\n",
        "        # And its attention mask (simply differentiates padding from non-padding).\n",
        "        attention_masks.append(encoded_dict['attention_mask'])\n",
        "\n",
        "    # Convert the lists into tensors.\n",
        "    input_ids = torch.cat(input_ids, dim=0)\n",
        "    attention_masks = torch.cat(attention_masks, dim=0)\n",
        "    labels = torch.tensor(df['label'].values)\n",
        "    return input_ids, attention_masks, labels"
      ],
      "metadata": {
        "id": "hO6-pVuavF5Q"
      },
      "execution_count": 12,
      "outputs": []
    },
    {
      "cell_type": "code",
      "source": [
        "def dataloader(train_df,val_df, test_df):\n",
        "  MAX_LEN, input_ids = length_balancer(train_df)\n",
        "\n",
        "  input_ids_train, attention_masks_train, labels_train = tokenize_text(train_df, tokenizer, MAX_LEN)\n",
        "  input_ids_val, attention_masks_val, labels_val = tokenize_text(val_df, tokenizer, MAX_LEN)\n",
        "  input_ids_test, attention_masks_test, labels_test = tokenize_text(test_df, tokenizer, MAX_LEN)\n",
        "\n",
        "  train_dataset = TensorDataset(input_ids_train, labels_train)\n",
        "  train_dataloader = DataLoader(train_dataset, sampler = RandomSampler(train_dataset), batch_size = 128)\n",
        "\n",
        "  val_dataset = TensorDataset(input_ids_val, labels_val)\n",
        "  val_dataloader = DataLoader(val_dataset, sampler = SequentialSampler(val_dataset), batch_size = 128)\n",
        "\n",
        "  test_dataset = TensorDataset(input_ids_test, labels_test)\n",
        "  test_dataloader = DataLoader(test_dataset, sampler = SequentialSampler(test_dataset), batch_size = 128)\n",
        "\n",
        "  return train_dataset, val_dataset, test_dataset, train_dataloader, val_dataloader, test_dataloader"
      ],
      "metadata": {
        "id": "g7j2_v20H5at"
      },
      "execution_count": 13,
      "outputs": []
    },
    {
      "cell_type": "code",
      "source": [
        "train_dataset, val_dataset, test_dataset, train_dataloader, val_dataloader, test_dataloader = dataloader(train_df, val_df, test_df)"
      ],
      "metadata": {
        "colab": {
          "base_uri": "https://localhost:8080/"
        },
        "id": "PsRnP4RcKnUD",
        "outputId": "88a3c2b9-a0f3-445c-8397-719454c9612c"
      },
      "execution_count": 14,
      "outputs": [
        {
          "output_type": "stream",
          "name": "stdout",
          "text": [
            "Max length Emotion Set:  62\n"
          ]
        }
      ]
    },
    {
      "cell_type": "markdown",
      "source": [
        "Now, we define our CNN architecture, and training function."
      ],
      "metadata": {
        "id": "SmLipspbWBWo"
      }
    },
    {
      "cell_type": "code",
      "source": [
        "class SentimentCNN(nn.Module):\n",
        "    def __init__(self,\n",
        "                 vocab_size=tokenizer.vocab_size,\n",
        "                 embed_dim=250,\n",
        "                 filter_sizes=[3, 4, 5],\n",
        "                 num_filters=[100, 100, 100],\n",
        "                 num_classes=2,\n",
        "                 dropout=0.5):\n",
        "        super(SentimentCNN, self).__init__()\n",
        "        self.embed_dim = embed_dim\n",
        "        self.embedding = nn.Embedding(num_embeddings=vocab_size,\n",
        "                                        embedding_dim=self.embed_dim,\n",
        "                                        padding_idx=2,\n",
        "                                        max_norm=3)\n",
        "        self.convs = nn.ModuleList([nn.Conv1d(in_channels=self.embed_dim,\n",
        "                                              out_channels=num_filters[i],\n",
        "                                              kernel_size = filter_sizes[i])\n",
        "                                    for i in range(len(filter_sizes))\n",
        "                                    # for filter_size in filter_sizes\n",
        "                                    ])\n",
        "        # self.fc = nn.Linear(len(filter_sizes) * num_filters, num_classes)\n",
        "        self.fc = nn.Linear(np.sum(num_filters), num_classes)\n",
        "        self.dropout = nn.Dropout(p =dropout)\n",
        "        self.act = nn.ReLU()\n",
        "        self.sigmoid = nn.Sigmoid()\n",
        "        self.num_classes= num_classes\n",
        "\n",
        "    def forward(self, x):\n",
        "        embedded = self.embedding(x).float()\n",
        "        embedded = embedded.permute(0, 2, 1)\n",
        "        conved = [self.act(conv(embedded)) for conv in self.convs]\n",
        "        pooled = [F.max_pool1d(conv, kernel_size=conv.shape[2]) for conv in conved]\n",
        "        # conved2 = [self.act(conv(embedded)) for conv in self.convs]\n",
        "        # pooled2 = [F.max_pool1d(conv, kernel_size=conv.shape[2]) for conv in conved2]\n",
        "        # cat = self.dropout(torch.cat(pooled, dim=-1))\n",
        "        cat = self.dropout(torch.cat([x_pool.squeeze(dim=2) for x_pool in pooled],\n",
        "                         dim=1))\n",
        "        output = self.fc(cat)\n",
        "        return output\n",
        "print(SentimentCNN())"
      ],
      "metadata": {
        "id": "kcwxVWp9I7lF",
        "colab": {
          "base_uri": "https://localhost:8080/"
        },
        "outputId": "82b699d3-661a-4e87-ca31-b05288ab8413"
      },
      "execution_count": 15,
      "outputs": [
        {
          "output_type": "stream",
          "name": "stdout",
          "text": [
            "SentimentCNN(\n",
            "  (embedding): Embedding(50265, 250, padding_idx=2, max_norm=3)\n",
            "  (convs): ModuleList(\n",
            "    (0): Conv1d(250, 100, kernel_size=(3,), stride=(1,))\n",
            "    (1): Conv1d(250, 100, kernel_size=(4,), stride=(1,))\n",
            "    (2): Conv1d(250, 100, kernel_size=(5,), stride=(1,))\n",
            "  )\n",
            "  (fc): Linear(in_features=300, out_features=2, bias=True)\n",
            "  (dropout): Dropout(p=0.5, inplace=False)\n",
            "  (act): ReLU()\n",
            "  (sigmoid): Sigmoid()\n",
            ")\n"
          ]
        }
      ]
    },
    {
      "cell_type": "code",
      "source": [
        "def training(train_dataloader,val_dataloader, test_dataloader,model, loss_fn= nn.CrossEntropyLoss(), eta=0.1, epochs=15, device=device):\n",
        "  device = torch.device(\"cuda\" if torch.cuda.is_available() else \"cpu\")\n",
        "  train_loss, train_acc, val_loss, val_acc, test_loss, test_acc = [], [], [], [], [], []\n",
        "  optimizer = torch.optim.Adam(model.parameters(), lr=eta)\n",
        "  model = model.to(device)\n",
        "  loss_fn = loss_fn.to(device)\n",
        "\n",
        "\n",
        "  for epoch in range(epochs):\n",
        "    model.train()\n",
        "    total_loss = 0.0\n",
        "    total_correct = 0\n",
        "    total = 0.0\n",
        "    for x,t in train_dataloader:\n",
        "      optimizer.zero_grad()\n",
        "      x = x.to(device)\n",
        "      t = t.to(device)\n",
        "      train_outputs = model(x)\n",
        "      if train_outputs.shape[1] == 1:\n",
        "        loss = loss_fn(train_outputs.squeeze(), t.float())\n",
        "      else:\n",
        "        loss = loss_fn(train_outputs, t)\n",
        "      loss.backward()\n",
        "      optimizer.step()\n",
        "      total += t.size(0)\n",
        "      total_loss += loss.item()*x.size(0)\n",
        "      _,predicted = torch.max(train_outputs.data,1)\n",
        "      total_correct += (predicted == t).sum().item()\n",
        "    train_loss.append(total_loss / total)\n",
        "    train_acc.append(total_correct / total)\n",
        "\n",
        "    model.eval()\n",
        "    total_loss = 0.0\n",
        "    total_correct = 0\n",
        "    total = 0.0\n",
        "    with torch.no_grad():\n",
        "        for x, t in val_dataloader:\n",
        "            x = x.to(device)\n",
        "            t = t.to(device)\n",
        "            val_outputs = model(x)\n",
        "            if val_outputs.shape[1] == 1:\n",
        "              loss = loss_fn(val_outputs.squeeze(), t.float())\n",
        "            else:\n",
        "              loss = loss_fn(val_outputs, t)\n",
        "            total_loss += loss.item() * x.size(0)\n",
        "            total += t.size(0)\n",
        "            _, predicted = torch.max(val_outputs.data, 1)\n",
        "            total_correct += (predicted == t).sum().item()\n",
        "    val_loss.append(total_loss / total)\n",
        "    val_acc.append(total_correct / total)\n",
        "\n",
        "\n",
        "\n",
        "    model.eval()\n",
        "    total_loss = 0.0\n",
        "    total_correct = 0\n",
        "    total = 0.0\n",
        "    all_predictions, all_targets = [], []\n",
        "    with torch.no_grad():\n",
        "      for x,t in test_dataloader:\n",
        "        x = x.to(device)\n",
        "        t = t.to(device)\n",
        "        test_outputs = model(x)\n",
        "        if test_outputs.shape[1] == 1:\n",
        "          loss = loss_fn(test_outputs.squeeze(), t.float())\n",
        "        else:\n",
        "          loss = loss_fn(test_outputs, t)\n",
        "        total_loss += loss.item()*x.size(0)\n",
        "        total += t.size(0)\n",
        "        _,predicted = torch.max(test_outputs.data,1)\n",
        "        total_correct += (predicted == t).sum().item()\n",
        "        all_predictions += predicted.cpu().numpy().tolist()\n",
        "        all_targets += t.cpu().numpy().tolist()\n",
        "\n",
        "    test_loss.append(total_loss / total)\n",
        "    test_acc.append(total_correct / total)\n",
        "    if train_outputs.shape[1] == 1 or train_outputs.shape[1]==2:\n",
        "        test_report = classification_report(all_targets, all_predictions, target_names=['neg', 'pos'])\n",
        "    else:\n",
        "        test_report = classification_report(all_targets, all_predictions, target_names=['anger', 'fear', 'joy', 'sadness'])\n",
        "\n",
        "    print(f\"Epoch {epoch+1}, Train Loss: {train_loss[-1]:.4f}, Train Acc: {train_acc[-1]:.4f},Validation Loss: {val_loss[-1]:.4f}, Validation Acc: {val_acc[-1]:.4f}, Test Loss: {test_loss[-1]:.4f}, Test Acc: {test_acc[-1]:.4f}\")\n",
        "\n",
        "\n",
        "  return train_loss, train_acc, val_loss,val_acc, test_loss, test_acc, test_report"
      ],
      "metadata": {
        "id": "ragpms5ag-1g"
      },
      "execution_count": 42,
      "outputs": []
    },
    {
      "cell_type": "markdown",
      "source": [
        "Let's define the model for multiple classification, call the training function, print the classification report for test, and plot loss and accuracies."
      ],
      "metadata": {
        "id": "nGjFMlDCWK0L"
      }
    },
    {
      "cell_type": "code",
      "source": [
        "model_multi = SentimentCNN(embed_dim =256, num_filters=[64,64,64], filter_sizes = [3,4,5], num_classes=4, dropout=0.3)"
      ],
      "metadata": {
        "id": "t92-Z8KDurvw"
      },
      "execution_count": 17,
      "outputs": []
    },
    {
      "cell_type": "code",
      "source": [
        "train_loss, train_acc,val_loss,val_acc,  test_loss, test_acc, test_report = training(train_dataloader, val_dataloader, test_dataloader,  loss_fn=nn.CrossEntropyLoss(), model=model_multi, eta=0.0005, epochs=15)\n",
        "print(f\"Test Classification Report:\\n{test_report}\")"
      ],
      "metadata": {
        "colab": {
          "base_uri": "https://localhost:8080/"
        },
        "id": "qNzNgN6si7Yb",
        "outputId": "a5295c15-5e94-4000-9d9f-e803a89750eb"
      },
      "execution_count": 18,
      "outputs": [
        {
          "output_type": "stream",
          "name": "stdout",
          "text": [
            "Epoch 1, Train Loss: 1.3288, Train Acc: 0.4380,Validation Loss: 1.3632, Validation Acc: 0.3155, Test Loss: 1.3598, Test Acc: 0.3399\n",
            "Epoch 2, Train Loss: 1.1516, Train Acc: 0.7182,Validation Loss: 1.3052, Validation Acc: 0.4225, Test Loss: 1.2941, Test Acc: 0.4462\n",
            "Epoch 3, Train Loss: 0.9209, Train Acc: 0.8275,Validation Loss: 1.2222, Validation Acc: 0.5080, Test Loss: 1.1956, Test Acc: 0.5151\n",
            "Epoch 4, Train Loss: 0.6544, Train Acc: 0.8957,Validation Loss: 1.1355, Validation Acc: 0.5401, Test Loss: 1.0936, Test Acc: 0.5595\n",
            "Epoch 5, Train Loss: 0.4276, Train Acc: 0.9389,Validation Loss: 1.0649, Validation Acc: 0.5749, Test Loss: 1.0086, Test Acc: 0.5954\n",
            "Epoch 6, Train Loss: 0.2648, Train Acc: 0.9671,Validation Loss: 1.0198, Validation Acc: 0.5856, Test Loss: 0.9486, Test Acc: 0.6144\n",
            "Epoch 7, Train Loss: 0.1711, Train Acc: 0.9812,Validation Loss: 0.9957, Validation Acc: 0.5882, Test Loss: 0.9168, Test Acc: 0.6263\n",
            "Epoch 8, Train Loss: 0.1150, Train Acc: 0.9866,Validation Loss: 0.9936, Validation Acc: 0.5936, Test Loss: 0.9026, Test Acc: 0.6256\n",
            "Epoch 9, Train Loss: 0.0810, Train Acc: 0.9932,Validation Loss: 0.9736, Validation Acc: 0.5989, Test Loss: 0.8923, Test Acc: 0.6411\n",
            "Epoch 10, Train Loss: 0.0603, Train Acc: 0.9946,Validation Loss: 0.9744, Validation Acc: 0.6070, Test Loss: 0.8897, Test Acc: 0.6397\n",
            "Epoch 11, Train Loss: 0.0460, Train Acc: 0.9959,Validation Loss: 0.9743, Validation Acc: 0.5989, Test Loss: 0.8919, Test Acc: 0.6411\n",
            "Epoch 12, Train Loss: 0.0370, Train Acc: 0.9961,Validation Loss: 0.9895, Validation Acc: 0.6043, Test Loss: 0.8994, Test Acc: 0.6432\n",
            "Epoch 13, Train Loss: 0.0294, Train Acc: 0.9982,Validation Loss: 0.9988, Validation Acc: 0.6150, Test Loss: 0.9075, Test Acc: 0.6425\n",
            "Epoch 14, Train Loss: 0.0242, Train Acc: 0.9986,Validation Loss: 0.9974, Validation Acc: 0.6016, Test Loss: 0.9164, Test Acc: 0.6488\n",
            "Epoch 15, Train Loss: 0.0199, Train Acc: 0.9988,Validation Loss: 1.0141, Validation Acc: 0.6150, Test Loss: 0.9257, Test Acc: 0.6495\n",
            "Test Classification Report:\n",
            "              precision    recall  f1-score   support\n",
            "\n",
            "       anger       0.69      0.77      0.73       558\n",
            "        fear       0.69      0.58      0.63       358\n",
            "         joy       0.43      0.41      0.42       123\n",
            "     sadness       0.61      0.62      0.62       382\n",
            "\n",
            "    accuracy                           0.65      1421\n",
            "   macro avg       0.61      0.60      0.60      1421\n",
            "weighted avg       0.65      0.65      0.65      1421\n",
            "\n"
          ]
        }
      ]
    },
    {
      "cell_type": "code",
      "source": [
        "from matplotlib import pyplot\n",
        "pyplot.figure(figsize=(10,3))\n",
        "ax = pyplot.subplot(121)\n",
        "# plot loss values of FC and CV network over epochs\n",
        "ax.plot(train_loss, \"g-\", label=\"Train loss\")\n",
        "ax.plot(test_loss, \"b-\", label=\"Test loss\")\n",
        "ax.plot(val_loss, \"y-\", label = \"Val loss\")\n",
        "ax.legend()\n",
        "\n",
        "ax = pyplot.subplot(122)\n",
        "# plot accuracy values of FC and CV network over epochs\n",
        "ax.plot(train_acc, \"g-\", label=\"Train accuracy\")\n",
        "ax.plot(test_acc, \"b-\", label=\"Test accuracy\")\n",
        "ax.plot(val_acc, \"y-\", label = \"Val accuracy\")\n",
        "ax.legend()"
      ],
      "metadata": {
        "colab": {
          "base_uri": "https://localhost:8080/",
          "height": 310
        },
        "id": "zJ6IHUmfldnb",
        "outputId": "74cf59e6-5c89-4855-86e6-5cf5d6795fec"
      },
      "execution_count": 24,
      "outputs": [
        {
          "output_type": "execute_result",
          "data": {
            "text/plain": [
              "<matplotlib.legend.Legend at 0x7fe67b4ddfc0>"
            ]
          },
          "metadata": {},
          "execution_count": 24
        },
        {
          "output_type": "display_data",
          "data": {
            "text/plain": [
              "<Figure size 1000x300 with 2 Axes>"
            ],
            "image/png": "[encoded data removed]"
          },
          "metadata": {}
        }
      ]
    },
    {
      "cell_type": "markdown",
      "source": [
        "While accuracy and other metrics don't seem to be too low, the model seems to be overfitting as the loss don't converge for validation and test. There might be several reasons for this such as dataset imbalance (though we have applied upsampling), the similarities of vocabulary used for the expression of the emotions, limited success in feature engineering.\n",
        "\n",
        "\n",
        "Now, we will switch to binary classification. First, we will group the labels as negative and positive emotions, apply the loader, define the model, call the training and print the results."
      ],
      "metadata": {
        "id": "dI44sa0DWzSp"
      }
    },
    {
      "cell_type": "code",
      "source": [
        "# New label mapping\n",
        "new_label_mapping = {'0': 0, '1': 1, '2': 0, '3': 1}\n",
        "\n",
        "# Update labels in dataframes\n",
        "train_df['label'] = train_df['label'].apply(lambda x: new_label_mapping[str(x)])\n",
        "val_df['label']= val_df['label'].apply(lambda x: new_label_mapping[str(x)])\n",
        "test_df['label'] = test_df['label'].apply(lambda x: new_label_mapping[str(x)])\n",
        "\n",
        "# Check the updated label distributions\n",
        "print(train_df['label'].value_counts())\n",
        "print(val_df['label'].value_counts())\n",
        "print(test_df['label'].value_counts())\n"
      ],
      "metadata": {
        "colab": {
          "base_uri": "https://localhost:8080/"
        },
        "id": "ihxrUEq3NM8e",
        "outputId": "a7319327-ec67-49ca-b52d-dc79d06b9bef"
      },
      "execution_count": 43,
      "outputs": [
        {
          "output_type": "stream",
          "name": "stdout",
          "text": [
            "label\n",
            "0    2800\n",
            "1    2800\n",
            "Name: count, dtype: int64\n",
            "label\n",
            "0    188\n",
            "1    186\n",
            "Name: count, dtype: int64\n",
            "label\n",
            "1    740\n",
            "0    681\n",
            "Name: count, dtype: int64\n"
          ]
        }
      ]
    },
    {
      "cell_type": "code",
      "source": [
        "train_dataset,val_dataset, test_dataset, train_dataloader,val_dataloader, test_dataloader = dataloader(train_df,val_df, test_df)"
      ],
      "metadata": {
        "colab": {
          "base_uri": "https://localhost:8080/"
        },
        "id": "1t_2lh0sSMT_",
        "outputId": "e35b0b98-3cac-4544-c672-222570f8507d"
      },
      "execution_count": 44,
      "outputs": [
        {
          "output_type": "stream",
          "name": "stdout",
          "text": [
            "Max length Emotion Set:  62\n"
          ]
        }
      ]
    },
    {
      "cell_type": "code",
      "source": [
        "model_binary = SentimentCNN(embed_dim =128, num_filters=[64,64,64], filter_sizes = [3,4,5], num_classes=2, dropout=0.5)"
      ],
      "metadata": {
        "id": "pepJ7IGVSYtM"
      },
      "execution_count": 81,
      "outputs": []
    },
    {
      "cell_type": "code",
      "source": [
        "train_loss, train_acc, val_loss, val_acc, test_loss, test_acc, test_report = training(train_dataloader, val_dataloader, test_dataloader,  loss_fn=nn.CrossEntropyLoss(), model=model_binary, eta=0.0003, epochs=10)\n",
        "print(test_report)"
      ],
      "metadata": {
        "colab": {
          "base_uri": "https://localhost:8080/"
        },
        "id": "SD-YuMr9orUW",
        "outputId": "ad1311b7-fa2f-4bd0-9b56-ce5e8094cedd"
      },
      "execution_count": 82,
      "outputs": [
        {
          "output_type": "stream",
          "name": "stdout",
          "text": [
            "Epoch 1, Train Loss: 0.6803, Train Acc: 0.5618,Validation Loss: 0.6868, Validation Acc: 0.5535, Test Loss: 0.6850, Test Acc: 0.5721\n",
            "Epoch 2, Train Loss: 0.6351, Train Acc: 0.6766,Validation Loss: 0.6779, Validation Acc: 0.5829, Test Loss: 0.6739, Test Acc: 0.6137\n",
            "Epoch 3, Train Loss: 0.5850, Train Acc: 0.7630,Validation Loss: 0.6679, Validation Acc: 0.6123, Test Loss: 0.6629, Test Acc: 0.6235\n",
            "Epoch 4, Train Loss: 0.5196, Train Acc: 0.8266,Validation Loss: 0.6540, Validation Acc: 0.6497, Test Loss: 0.6458, Test Acc: 0.6460\n",
            "Epoch 5, Train Loss: 0.4532, Train Acc: 0.8552,Validation Loss: 0.6381, Validation Acc: 0.6390, Test Loss: 0.6260, Test Acc: 0.6721\n",
            "Epoch 6, Train Loss: 0.3784, Train Acc: 0.8929,Validation Loss: 0.6226, Validation Acc: 0.6497, Test Loss: 0.6050, Test Acc: 0.6861\n",
            "Epoch 7, Train Loss: 0.3049, Train Acc: 0.9223,Validation Loss: 0.6069, Validation Acc: 0.6711, Test Loss: 0.5835, Test Acc: 0.7065\n",
            "Epoch 8, Train Loss: 0.2498, Train Acc: 0.9402,Validation Loss: 0.5912, Validation Acc: 0.6872, Test Loss: 0.5663, Test Acc: 0.7164\n",
            "Epoch 9, Train Loss: 0.1963, Train Acc: 0.9555,Validation Loss: 0.5802, Validation Acc: 0.6845, Test Loss: 0.5517, Test Acc: 0.7248\n",
            "Epoch 10, Train Loss: 0.1582, Train Acc: 0.9688,Validation Loss: 0.5737, Validation Acc: 0.6872, Test Loss: 0.5412, Test Acc: 0.7291\n",
            "              precision    recall  f1-score   support\n",
            "\n",
            "         neg       0.72      0.72      0.72       681\n",
            "         pos       0.74      0.74      0.74       740\n",
            "\n",
            "    accuracy                           0.73      1421\n",
            "   macro avg       0.73      0.73      0.73      1421\n",
            "weighted avg       0.73      0.73      0.73      1421\n",
            "\n"
          ]
        }
      ]
    },
    {
      "cell_type": "code",
      "source": [
        "from matplotlib import pyplot\n",
        "pyplot.figure(figsize=(10,3))\n",
        "ax = pyplot.subplot(121)\n",
        "# plot loss values of FC and CV network over epochs\n",
        "ax.plot(train_loss, \"g-\", label=\"Train loss\")\n",
        "ax.plot(val_loss, \"y-\", label=\"Val loss\")\n",
        "ax.plot(test_loss, \"b-\", label=\"Test loss\")\n",
        "ax.legend()\n",
        "\n",
        "ax = pyplot.subplot(122)\n",
        "# plot accuracy values of FC and CV network over epochs\n",
        "ax.plot(train_acc, \"g-\", label=\"Train accuracy\")\n",
        "ax.plot(val_acc, \"y-\", label=\"Val accuracy\")\n",
        "ax.plot(test_acc, \"b-\", label=\"Test accuracy\")\n",
        "ax.legend()"
      ],
      "metadata": {
        "id": "_9dFEz4yLdVn",
        "colab": {
          "base_uri": "https://localhost:8080/",
          "height": 309
        },
        "outputId": "f579fcd7-e853-4d06-bdff-1c7fdb97ee64"
      },
      "execution_count": 83,
      "outputs": [
        {
          "output_type": "execute_result",
          "data": {
            "text/plain": [
              "<matplotlib.legend.Legend at 0x7fe675944280>"
            ]
          },
          "metadata": {},
          "execution_count": 83
        },
        {
          "output_type": "display_data",
          "data": {
            "text/plain": [
              "<Figure size 1000x300 with 2 Axes>"
            ],
            "image/png": "[encoded data removed]"
          },
          "metadata": {}
        }
      ]
    },
    {
      "cell_type": "markdown",
      "source": [
        "We observe a similar issue for binary class as we have observed for multi class. Since now we have opposing labels but the same issue persists, the problem likely lies in feature engineering and/or limited features.\n"
      ],
      "metadata": {
        "id": "BAQzIQ94Z5tM"
      }
    }
  ]
}